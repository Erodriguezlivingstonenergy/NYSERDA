{
 "cells": [
  {
   "cell_type": "code",
   "execution_count": 1,
   "metadata": {},
   "outputs": [],
   "source": [
    "import pandas as pd\n",
    "import seaborn as sns\n",
    "import matplotlib.pyplot as plt"
   ]
  },
  {
   "cell_type": "code",
   "execution_count": 2,
   "metadata": {},
   "outputs": [],
   "source": [
    "df = pd.read_csv(\"Electric_Vehicle_Charging_Stations_in_New_York.csv\")"
   ]
  },
  {
   "cell_type": "code",
   "execution_count": 3,
   "metadata": {},
   "outputs": [
    {
     "data": {
      "text/html": [
       "<div>\n",
       "<style scoped>\n",
       "    .dataframe tbody tr th:only-of-type {\n",
       "        vertical-align: middle;\n",
       "    }\n",
       "\n",
       "    .dataframe tbody tr th {\n",
       "        vertical-align: top;\n",
       "    }\n",
       "\n",
       "    .dataframe thead th {\n",
       "        text-align: right;\n",
       "    }\n",
       "</style>\n",
       "<table border=\"1\" class=\"dataframe\">\n",
       "  <thead>\n",
       "    <tr style=\"text-align: right;\">\n",
       "      <th></th>\n",
       "      <th>Fuel Type Code</th>\n",
       "      <th>Station Name</th>\n",
       "      <th>Street Address</th>\n",
       "      <th>Intersection Directions</th>\n",
       "      <th>City</th>\n",
       "      <th>State</th>\n",
       "      <th>ZIP</th>\n",
       "      <th>Plus4</th>\n",
       "      <th>Station Phone</th>\n",
       "      <th>Status Code</th>\n",
       "      <th>...</th>\n",
       "      <th>Latitude</th>\n",
       "      <th>Longitude</th>\n",
       "      <th>Date Last Confirmed</th>\n",
       "      <th>ID</th>\n",
       "      <th>Updated At</th>\n",
       "      <th>Owner Type Code</th>\n",
       "      <th>Federal Agency ID</th>\n",
       "      <th>Federal Agency Name</th>\n",
       "      <th>Open Date</th>\n",
       "      <th>EV Connector Types</th>\n",
       "    </tr>\n",
       "  </thead>\n",
       "  <tbody>\n",
       "    <tr>\n",
       "      <th>0</th>\n",
       "      <td>ELEC</td>\n",
       "      <td>JATC LU41</td>\n",
       "      <td>3546 California Rd</td>\n",
       "      <td>JATC LU41</td>\n",
       "      <td>Orchard Park</td>\n",
       "      <td>NY</td>\n",
       "      <td>14127</td>\n",
       "      <td>NaN</td>\n",
       "      <td>888-758-4389</td>\n",
       "      <td>E</td>\n",
       "      <td>...</td>\n",
       "      <td>42.787197</td>\n",
       "      <td>-78.787821</td>\n",
       "      <td>05/27/2020</td>\n",
       "      <td>62127</td>\n",
       "      <td>2020-05-27 09:20:32</td>\n",
       "      <td>NaN</td>\n",
       "      <td>NaN</td>\n",
       "      <td>NaN</td>\n",
       "      <td>NaN</td>\n",
       "      <td>J1772</td>\n",
       "    </tr>\n",
       "    <tr>\n",
       "      <th>1</th>\n",
       "      <td>ELEC</td>\n",
       "      <td>GE WattStation</td>\n",
       "      <td>214  3rd St</td>\n",
       "      <td>NaN</td>\n",
       "      <td>Brooklyn</td>\n",
       "      <td>NY</td>\n",
       "      <td>11215</td>\n",
       "      <td>NaN</td>\n",
       "      <td>855-443-3873</td>\n",
       "      <td>E</td>\n",
       "      <td>...</td>\n",
       "      <td>40.675331</td>\n",
       "      <td>-73.988563</td>\n",
       "      <td>05/15/2020</td>\n",
       "      <td>73056</td>\n",
       "      <td>2020-05-15 10:00:11</td>\n",
       "      <td>NaN</td>\n",
       "      <td>NaN</td>\n",
       "      <td>NaN</td>\n",
       "      <td>NaN</td>\n",
       "      <td>J1772</td>\n",
       "    </tr>\n",
       "    <tr>\n",
       "      <th>2</th>\n",
       "      <td>ELEC</td>\n",
       "      <td>STATION 1 @ VIL</td>\n",
       "      <td>70 E Main St</td>\n",
       "      <td>VICTOR; In lot next to church</td>\n",
       "      <td>Victor</td>\n",
       "      <td>NY</td>\n",
       "      <td>14564</td>\n",
       "      <td>NaN</td>\n",
       "      <td>888-758-4389</td>\n",
       "      <td>E</td>\n",
       "      <td>...</td>\n",
       "      <td>42.981755</td>\n",
       "      <td>-77.408360</td>\n",
       "      <td>05/27/2020</td>\n",
       "      <td>88701</td>\n",
       "      <td>2020-05-27 09:20:32</td>\n",
       "      <td>NaN</td>\n",
       "      <td>NaN</td>\n",
       "      <td>NaN</td>\n",
       "      <td>NaN</td>\n",
       "      <td>J1772</td>\n",
       "    </tr>\n",
       "    <tr>\n",
       "      <th>3</th>\n",
       "      <td>ELEC</td>\n",
       "      <td>CITY OF ITHACA</td>\n",
       "      <td>118 Dryden Rd</td>\n",
       "      <td>DRYDEN; 2nd floor</td>\n",
       "      <td>Ithaca</td>\n",
       "      <td>NY</td>\n",
       "      <td>14850</td>\n",
       "      <td>NaN</td>\n",
       "      <td>888-758-4389</td>\n",
       "      <td>E</td>\n",
       "      <td>...</td>\n",
       "      <td>42.442142</td>\n",
       "      <td>-76.486112</td>\n",
       "      <td>05/27/2020</td>\n",
       "      <td>92327</td>\n",
       "      <td>2020-05-27 09:20:32</td>\n",
       "      <td>NaN</td>\n",
       "      <td>NaN</td>\n",
       "      <td>NaN</td>\n",
       "      <td>NaN</td>\n",
       "      <td>J1772</td>\n",
       "    </tr>\n",
       "    <tr>\n",
       "      <th>4</th>\n",
       "      <td>ELEC</td>\n",
       "      <td>LANDING PARK</td>\n",
       "      <td>70 Main St</td>\n",
       "      <td>COEYMANS; -</td>\n",
       "      <td>Coeymans</td>\n",
       "      <td>NY</td>\n",
       "      <td>12045</td>\n",
       "      <td>NaN</td>\n",
       "      <td>888-758-4389</td>\n",
       "      <td>E</td>\n",
       "      <td>...</td>\n",
       "      <td>42.472557</td>\n",
       "      <td>-73.790396</td>\n",
       "      <td>05/27/2020</td>\n",
       "      <td>99993</td>\n",
       "      <td>2020-05-27 09:20:32</td>\n",
       "      <td>NaN</td>\n",
       "      <td>NaN</td>\n",
       "      <td>NaN</td>\n",
       "      <td>NaN</td>\n",
       "      <td>J1772</td>\n",
       "    </tr>\n",
       "  </tbody>\n",
       "</table>\n",
       "<p>5 rows × 31 columns</p>\n",
       "</div>"
      ],
      "text/plain": [
       "  Fuel Type Code     Station Name      Street Address  \\\n",
       "0           ELEC        JATC LU41  3546 California Rd   \n",
       "1           ELEC   GE WattStation         214  3rd St   \n",
       "2           ELEC  STATION 1 @ VIL        70 E Main St   \n",
       "3           ELEC   CITY OF ITHACA       118 Dryden Rd   \n",
       "4           ELEC     LANDING PARK          70 Main St   \n",
       "\n",
       "         Intersection Directions          City State    ZIP  Plus4  \\\n",
       "0                      JATC LU41  Orchard Park    NY  14127    NaN   \n",
       "1                            NaN      Brooklyn    NY  11215    NaN   \n",
       "2  VICTOR; In lot next to church        Victor    NY  14564    NaN   \n",
       "3              DRYDEN; 2nd floor        Ithaca    NY  14850    NaN   \n",
       "4                    COEYMANS; -      Coeymans    NY  12045    NaN   \n",
       "\n",
       "  Station Phone Status Code  ...   Latitude  Longitude Date Last Confirmed  \\\n",
       "0  888-758-4389           E  ...  42.787197 -78.787821          05/27/2020   \n",
       "1  855-443-3873           E  ...  40.675331 -73.988563          05/15/2020   \n",
       "2  888-758-4389           E  ...  42.981755 -77.408360          05/27/2020   \n",
       "3  888-758-4389           E  ...  42.442142 -76.486112          05/27/2020   \n",
       "4  888-758-4389           E  ...  42.472557 -73.790396          05/27/2020   \n",
       "\n",
       "      ID           Updated At  Owner Type Code  Federal Agency ID  \\\n",
       "0  62127  2020-05-27 09:20:32              NaN                NaN   \n",
       "1  73056  2020-05-15 10:00:11              NaN                NaN   \n",
       "2  88701  2020-05-27 09:20:32              NaN                NaN   \n",
       "3  92327  2020-05-27 09:20:32              NaN                NaN   \n",
       "4  99993  2020-05-27 09:20:32              NaN                NaN   \n",
       "\n",
       "   Federal Agency Name Open Date EV Connector Types  \n",
       "0                  NaN       NaN              J1772  \n",
       "1                  NaN       NaN              J1772  \n",
       "2                  NaN       NaN              J1772  \n",
       "3                  NaN       NaN              J1772  \n",
       "4                  NaN       NaN              J1772  \n",
       "\n",
       "[5 rows x 31 columns]"
      ]
     },
     "execution_count": 3,
     "metadata": {},
     "output_type": "execute_result"
    }
   ],
   "source": [
    "df.head()"
   ]
  },
  {
   "cell_type": "code",
   "execution_count": 4,
   "metadata": {},
   "outputs": [
    {
     "name": "stdout",
     "output_type": "stream",
     "text": [
      "       country  year         pop continent  lifeExp   gdpPercap\n",
      "0  Afghanistan  1952   8425333.0      Asia   28.801  779.445314\n",
      "1  Afghanistan  1957   9240934.0      Asia   30.332  820.853030\n",
      "2  Afghanistan  1962  10267083.0      Asia   31.997  853.100710\n"
     ]
    }
   ],
   "source": [
    "data_url = 'http://bit.ly/2cLzoxH'\n",
    "gapminder = pd.read_csv(data_url)\n",
    "print(gapminder.head(3))"
   ]
  },
  {
   "cell_type": "code",
   "execution_count": 5,
   "metadata": {},
   "outputs": [
    {
     "name": "stdout",
     "output_type": "stream",
     "text": [
      "Index(['Fuel Type Code', 'Station Name', 'Street Address',\n",
      "       'Intersection Directions', 'City', 'State', 'ZIP', 'Plus4',\n",
      "       'Station Phone', 'Status Code', 'Expected Date',\n",
      "       'Groups With Access Code', 'Access Days Time', 'Cards Accepted',\n",
      "       'EV Level1 EVSE Num', 'EV Level2 EVSE Num', 'EV DC Fast Count',\n",
      "       'EV Other Info', 'EV Network', 'EV Network Web', 'Geocode Status',\n",
      "       'Latitude', 'Longitude', 'Date Last Confirmed', 'ID', 'Updated At',\n",
      "       'Owner Type Code', 'Federal Agency ID', 'Federal Agency Name',\n",
      "       'Open Date', 'EV Connector Types'],\n",
      "      dtype='object')\n"
     ]
    }
   ],
   "source": [
    "#get the dataframe columns\n",
    "cols = df.columns \n",
    "\n",
    "#print the columns\n",
    "print(cols)"
   ]
  },
  {
   "cell_type": "code",
   "execution_count": 6,
   "metadata": {},
   "outputs": [],
   "source": [
    "df2 = df.drop(['Fuel Type Code', 'Station Name', 'Street Address',\n",
    "       'Intersection Directions', 'ZIP', 'Plus4',\n",
    "       'Station Phone', 'Status Code', 'Expected Date',\n",
    "       'Groups With Access Code', 'Access Days Time', 'Cards Accepted',\n",
    "       'EV Level1 EVSE Num', 'EV Level2 EVSE Num', 'EV DC Fast Count',\n",
    "       'EV Other Info', 'EV Network', 'EV Network Web', 'Geocode Status',\n",
    "       'Date Last Confirmed', 'ID', 'Updated At',\n",
    "       'Owner Type Code', 'Federal Agency ID', 'Federal Agency Name',\n",
    "       'Open Date', 'EV Connector Types'], axis=1)"
   ]
  },
  {
   "cell_type": "code",
   "execution_count": 7,
   "metadata": {},
   "outputs": [
    {
     "data": {
      "text/html": [
       "<div>\n",
       "<style scoped>\n",
       "    .dataframe tbody tr th:only-of-type {\n",
       "        vertical-align: middle;\n",
       "    }\n",
       "\n",
       "    .dataframe tbody tr th {\n",
       "        vertical-align: top;\n",
       "    }\n",
       "\n",
       "    .dataframe thead th {\n",
       "        text-align: right;\n",
       "    }\n",
       "</style>\n",
       "<table border=\"1\" class=\"dataframe\">\n",
       "  <thead>\n",
       "    <tr style=\"text-align: right;\">\n",
       "      <th></th>\n",
       "      <th>City</th>\n",
       "      <th>State</th>\n",
       "      <th>Latitude</th>\n",
       "      <th>Longitude</th>\n",
       "    </tr>\n",
       "  </thead>\n",
       "  <tbody>\n",
       "    <tr>\n",
       "      <th>0</th>\n",
       "      <td>Orchard Park</td>\n",
       "      <td>NY</td>\n",
       "      <td>42.787197</td>\n",
       "      <td>-78.787821</td>\n",
       "    </tr>\n",
       "    <tr>\n",
       "      <th>1</th>\n",
       "      <td>Brooklyn</td>\n",
       "      <td>NY</td>\n",
       "      <td>40.675331</td>\n",
       "      <td>-73.988563</td>\n",
       "    </tr>\n",
       "    <tr>\n",
       "      <th>2</th>\n",
       "      <td>Victor</td>\n",
       "      <td>NY</td>\n",
       "      <td>42.981755</td>\n",
       "      <td>-77.408360</td>\n",
       "    </tr>\n",
       "    <tr>\n",
       "      <th>3</th>\n",
       "      <td>Ithaca</td>\n",
       "      <td>NY</td>\n",
       "      <td>42.442142</td>\n",
       "      <td>-76.486112</td>\n",
       "    </tr>\n",
       "    <tr>\n",
       "      <th>4</th>\n",
       "      <td>Coeymans</td>\n",
       "      <td>NY</td>\n",
       "      <td>42.472557</td>\n",
       "      <td>-73.790396</td>\n",
       "    </tr>\n",
       "  </tbody>\n",
       "</table>\n",
       "</div>"
      ],
      "text/plain": [
       "           City State   Latitude  Longitude\n",
       "0  Orchard Park    NY  42.787197 -78.787821\n",
       "1      Brooklyn    NY  40.675331 -73.988563\n",
       "2        Victor    NY  42.981755 -77.408360\n",
       "3        Ithaca    NY  42.442142 -76.486112\n",
       "4      Coeymans    NY  42.472557 -73.790396"
      ]
     },
     "execution_count": 7,
     "metadata": {},
     "output_type": "execute_result"
    }
   ],
   "source": [
    "df2.head()"
   ]
  },
  {
   "cell_type": "code",
   "execution_count": 8,
   "metadata": {},
   "outputs": [
    {
     "name": "stdout",
     "output_type": "stream",
     "text": [
      "Requirement already satisfied: pandas in c:\\users\\indir\\anaconda3\\lib\\site-packages (1.0.1)\n",
      "Requirement already satisfied: folium in c:\\users\\indir\\anaconda3\\lib\\site-packages (0.11.0)\n",
      "Requirement already satisfied: python-dateutil>=2.6.1 in c:\\users\\indir\\anaconda3\\lib\\site-packages (from pandas) (2.8.1)\n",
      "Requirement already satisfied: numpy>=1.13.3 in c:\\users\\indir\\anaconda3\\lib\\site-packages (from pandas) (1.18.1)\n",
      "Requirement already satisfied: pytz>=2017.2 in c:\\users\\indir\\anaconda3\\lib\\site-packages (from pandas) (2019.3)\n",
      "Requirement already satisfied: branca>=0.3.0 in c:\\users\\indir\\anaconda3\\lib\\site-packages (from folium) (0.4.1)\n",
      "Requirement already satisfied: jinja2>=2.9 in c:\\users\\indir\\anaconda3\\lib\\site-packages (from folium) (2.11.1)\n",
      "Requirement already satisfied: requests in c:\\users\\indir\\anaconda3\\lib\\site-packages (from folium) (2.22.0)\n",
      "Requirement already satisfied: six>=1.5 in c:\\users\\indir\\anaconda3\\lib\\site-packages (from python-dateutil>=2.6.1->pandas) (1.14.0)\n",
      "Requirement already satisfied: MarkupSafe>=0.23 in c:\\users\\indir\\anaconda3\\lib\\site-packages (from jinja2>=2.9->folium) (1.1.1)\n",
      "Requirement already satisfied: urllib3!=1.25.0,!=1.25.1,<1.26,>=1.21.1 in c:\\users\\indir\\anaconda3\\lib\\site-packages (from requests->folium) (1.25.8)\n",
      "Requirement already satisfied: idna<2.9,>=2.5 in c:\\users\\indir\\anaconda3\\lib\\site-packages (from requests->folium) (2.8)\n",
      "Requirement already satisfied: chardet<3.1.0,>=3.0.2 in c:\\users\\indir\\anaconda3\\lib\\site-packages (from requests->folium) (3.0.4)\n",
      "Requirement already satisfied: certifi>=2017.4.17 in c:\\users\\indir\\anaconda3\\lib\\site-packages (from requests->folium) (2019.11.28)\n",
      "Note: you may need to restart the kernel to use updated packages.\n"
     ]
    }
   ],
   "source": [
    "pip install pandas folium"
   ]
  },
  {
   "cell_type": "code",
   "execution_count": 9,
   "metadata": {},
   "outputs": [],
   "source": [
    "import pandas as pd\n",
    "from folium import Map\n",
    "from folium.plugins import HeatMap"
   ]
  },
  {
   "cell_type": "code",
   "execution_count": 10,
   "metadata": {},
   "outputs": [],
   "source": [
    "for_map = Map(location=[42.787197, -78.787821], zoom_start=8, )"
   ]
  },
  {
   "cell_type": "code",
   "execution_count": 11,
   "metadata": {},
   "outputs": [
    {
     "name": "stdout",
     "output_type": "stream",
     "text": [
      "Requirement already satisfied: descartes in c:\\users\\indir\\anaconda3\\lib\\site-packages (1.1.0)\n",
      "Requirement already satisfied: matplotlib in c:\\users\\indir\\anaconda3\\lib\\site-packages (from descartes) (3.1.3)\n",
      "Requirement already satisfied: numpy>=1.11 in c:\\users\\indir\\anaconda3\\lib\\site-packages (from matplotlib->descartes) (1.18.1)\n",
      "Requirement already satisfied: kiwisolver>=1.0.1 in c:\\users\\indir\\anaconda3\\lib\\site-packages (from matplotlib->descartes) (1.1.0)\n",
      "Requirement already satisfied: cycler>=0.10 in c:\\users\\indir\\anaconda3\\lib\\site-packages (from matplotlib->descartes) (0.10.0)\n",
      "Requirement already satisfied: python-dateutil>=2.1 in c:\\users\\indir\\anaconda3\\lib\\site-packages (from matplotlib->descartes) (2.8.1)\n",
      "Requirement already satisfied: pyparsing!=2.0.4,!=2.1.2,!=2.1.6,>=2.0.1 in c:\\users\\indir\\anaconda3\\lib\\site-packages (from matplotlib->descartes) (2.4.6)\n",
      "Requirement already satisfied: setuptools in c:\\users\\indir\\anaconda3\\lib\\site-packages (from kiwisolver>=1.0.1->matplotlib->descartes) (45.2.0.post20200210)\n",
      "Requirement already satisfied: six in c:\\users\\indir\\anaconda3\\lib\\site-packages (from cycler>=0.10->matplotlib->descartes) (1.14.0)\n",
      "Note: you may need to restart the kernel to use updated packages.\n"
     ]
    }
   ],
   "source": [
    "pip install descartes"
   ]
  },
  {
   "cell_type": "code",
   "execution_count": 13,
   "metadata": {},
   "outputs": [
    {
     "name": "stdout",
     "output_type": "stream",
     "text": [
      "Collecting geopandas\n",
      "  Downloading geopandas-0.7.0-py2.py3-none-any.whl (928 kB)\n",
      "Requirement already satisfied: pandas>=0.23.0 in c:\\users\\indir\\anaconda3\\lib\\site-packages (from geopandas) (1.0.1)\n",
      "Collecting shapely\n",
      "  Downloading Shapely-1.7.0-cp37-cp37m-win_amd64.whl (1.0 MB)\n",
      "Collecting pyproj>=2.2.0\n",
      "  Downloading pyproj-2.6.1.post1-cp37-cp37m-win_amd64.whl (17.2 MB)\n",
      "Collecting fiona\n",
      "  Downloading Fiona-1.8.13.post1.tar.gz (1.2 MB)\n",
      "Note: you may need to restart the kernel to use updated packages.\n"
     ]
    },
    {
     "name": "stderr",
     "output_type": "stream",
     "text": [
      "    ERROR: Command errored out with exit status 1:\n",
      "     command: 'C:\\Users\\indir\\anaconda3\\python.exe' -c 'import sys, setuptools, tokenize; sys.argv[0] = '\"'\"'C:\\\\Users\\\\indir\\\\AppData\\\\Local\\\\Temp\\\\pip-install-qlm5hmxc\\\\fiona\\\\setup.py'\"'\"'; __file__='\"'\"'C:\\\\Users\\\\indir\\\\AppData\\\\Local\\\\Temp\\\\pip-install-qlm5hmxc\\\\fiona\\\\setup.py'\"'\"';f=getattr(tokenize, '\"'\"'open'\"'\"', open)(__file__);code=f.read().replace('\"'\"'\\r\\n'\"'\"', '\"'\"'\\n'\"'\"');f.close();exec(compile(code, __file__, '\"'\"'exec'\"'\"'))' egg_info --egg-base 'C:\\Users\\indir\\AppData\\Local\\Temp\\pip-install-qlm5hmxc\\fiona\\pip-egg-info'\n",
      "         cwd: C:\\Users\\indir\\AppData\\Local\\Temp\\pip-install-qlm5hmxc\\fiona\\\n",
      "    Complete output (1 lines):\n",
      "    A GDAL API version must be specified. Provide a path to gdal-config using a GDAL_CONFIG environment variable or use a GDAL_VERSION environment variable.\n",
      "    ----------------------------------------\n",
      "ERROR: Command errored out with exit status 1: python setup.py egg_info Check the logs for full command output.\n"
     ]
    }
   ],
   "source": [
    "pip install geopandas"
   ]
  },
  {
   "cell_type": "code",
   "execution_count": 1,
   "metadata": {},
   "outputs": [
    {
     "ename": "ModuleNotFoundError",
     "evalue": "No module named 'geopandas'",
     "output_type": "error",
     "traceback": [
      "\u001b[1;31m---------------------------------------------------------------------------\u001b[0m",
      "\u001b[1;31mModuleNotFoundError\u001b[0m                       Traceback (most recent call last)",
      "\u001b[1;32m<ipython-input-1-5d9708b5d11c>\u001b[0m in \u001b[0;36m<module>\u001b[1;34m\u001b[0m\n\u001b[0;32m      2\u001b[0m \u001b[1;32mimport\u001b[0m \u001b[0mmatplotlib\u001b[0m\u001b[1;33m.\u001b[0m\u001b[0mpyplot\u001b[0m \u001b[1;32mas\u001b[0m \u001b[0mplt\u001b[0m\u001b[1;33m\u001b[0m\u001b[1;33m\u001b[0m\u001b[0m\n\u001b[0;32m      3\u001b[0m \u001b[1;32mimport\u001b[0m \u001b[0mdescartes\u001b[0m\u001b[1;33m\u001b[0m\u001b[1;33m\u001b[0m\u001b[0m\n\u001b[1;32m----> 4\u001b[1;33m \u001b[1;32mimport\u001b[0m \u001b[0mgeopandas\u001b[0m \u001b[1;32mas\u001b[0m \u001b[0mgpd\u001b[0m\u001b[1;33m\u001b[0m\u001b[1;33m\u001b[0m\u001b[0m\n\u001b[0m\u001b[0;32m      5\u001b[0m \u001b[1;32mfrom\u001b[0m \u001b[0mshapely\u001b[0m\u001b[1;33m.\u001b[0m\u001b[0mgeometry\u001b[0m \u001b[1;32mimport\u001b[0m \u001b[0mPoint\u001b[0m\u001b[1;33m,\u001b[0m \u001b[0mPolygon\u001b[0m\u001b[1;33m\u001b[0m\u001b[1;33m\u001b[0m\u001b[0m\n\u001b[0;32m      6\u001b[0m \u001b[0mget_ipython\u001b[0m\u001b[1;33m(\u001b[0m\u001b[1;33m)\u001b[0m\u001b[1;33m.\u001b[0m\u001b[0mrun_line_magic\u001b[0m\u001b[1;33m(\u001b[0m\u001b[1;34m'matplotlib'\u001b[0m\u001b[1;33m,\u001b[0m \u001b[1;34m'inline'\u001b[0m\u001b[1;33m)\u001b[0m\u001b[1;33m\u001b[0m\u001b[1;33m\u001b[0m\u001b[0m\n",
      "\u001b[1;31mModuleNotFoundError\u001b[0m: No module named 'geopandas'"
     ]
    }
   ],
   "source": [
    "import pandas as pd\n",
    "import matplotlib.pyplot as plt\n",
    "import descartes\n",
    "import geopandas as gpd\n",
    "from shapely.geometry import Point, Polygon\n",
    "%matplotlib inline"
   ]
  },
  {
   "cell_type": "code",
   "execution_count": 13,
   "metadata": {},
   "outputs": [
    {
     "ename": "AttributeError",
     "evalue": "'Map' object has no attribute 'latitude'",
     "output_type": "error",
     "traceback": [
      "\u001b[1;31m---------------------------------------------------------------------------\u001b[0m",
      "\u001b[1;31mAttributeError\u001b[0m                            Traceback (most recent call last)",
      "\u001b[1;32m<ipython-input-13-fccfec7b524e>\u001b[0m in \u001b[0;36m<module>\u001b[1;34m\u001b[0m\n\u001b[0;32m      1\u001b[0m hm_wide = HeatMap(\n\u001b[1;32m----> 2\u001b[1;33m     \u001b[0mlist\u001b[0m\u001b[1;33m(\u001b[0m\u001b[0mzip\u001b[0m\u001b[1;33m(\u001b[0m\u001b[0mfor_map\u001b[0m\u001b[1;33m.\u001b[0m\u001b[0mlatitude\u001b[0m\u001b[1;33m.\u001b[0m\u001b[0mvalues\u001b[0m\u001b[1;33m,\u001b[0m \u001b[0mfor_map\u001b[0m\u001b[1;33m.\u001b[0m\u001b[0mlongitude\u001b[0m\u001b[1;33m.\u001b[0m\u001b[0mvalues\u001b[0m\u001b[1;33m)\u001b[0m\u001b[1;33m)\u001b[0m\u001b[1;33m,\u001b[0m\u001b[1;33m\u001b[0m\u001b[1;33m\u001b[0m\u001b[0m\n\u001b[0m\u001b[0;32m      3\u001b[0m     \u001b[0mmin_opacity\u001b[0m\u001b[1;33m=\u001b[0m\u001b[1;36m0.2\u001b[0m\u001b[1;33m,\u001b[0m\u001b[1;33m\u001b[0m\u001b[1;33m\u001b[0m\u001b[0m\n\u001b[0;32m      4\u001b[0m     \u001b[0mradius\u001b[0m\u001b[1;33m=\u001b[0m\u001b[1;36m17\u001b[0m\u001b[1;33m,\u001b[0m\u001b[1;33m\u001b[0m\u001b[1;33m\u001b[0m\u001b[0m\n\u001b[0;32m      5\u001b[0m     \u001b[0mblur\u001b[0m\u001b[1;33m=\u001b[0m\u001b[1;36m15\u001b[0m\u001b[1;33m,\u001b[0m\u001b[1;33m\u001b[0m\u001b[1;33m\u001b[0m\u001b[0m\n",
      "\u001b[1;31mAttributeError\u001b[0m: 'Map' object has no attribute 'latitude'"
     ]
    }
   ],
   "source": [
    "hm_wide = HeatMap(\n",
    "    list(zip(for_map.latitude.values, for_map.longitude.values)),\n",
    "    min_opacity=0.2,\n",
    "    radius=17, \n",
    "    blur=15, \n",
    "    max_zoom=1,\n",
    ")"
   ]
  },
  {
   "cell_type": "code",
   "execution_count": null,
   "metadata": {},
   "outputs": [],
   "source": []
  }
 ],
 "metadata": {
  "kernelspec": {
   "display_name": "Python 3",
   "language": "python",
   "name": "python3"
  },
  "language_info": {
   "codemirror_mode": {
    "name": "ipython",
    "version": 3
   },
   "file_extension": ".py",
   "mimetype": "text/x-python",
   "name": "python",
   "nbconvert_exporter": "python",
   "pygments_lexer": "ipython3",
   "version": "3.7.6"
  }
 },
 "nbformat": 4,
 "nbformat_minor": 4
}

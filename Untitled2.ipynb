{
 "cells": [
  {
   "cell_type": "code",
   "execution_count": 2,
   "metadata": {},
   "outputs": [
    {
     "name": "stdout",
     "output_type": "stream",
     "text": [
      "Collecting geopandas\n",
      "  Using cached geopandas-0.7.0-py2.py3-none-any.whl (928 kB)\n",
      "Collecting shapely\n",
      "  Using cached Shapely-1.7.0-cp37-cp37m-win_amd64.whl (1.0 MB)\n",
      "Requirement already satisfied: pandas>=0.23.0 in c:\\users\\indir\\anaconda3\\lib\\site-packages (from geopandas) (1.0.1)\n",
      "Collecting fiona\n",
      "  Using cached Fiona-1.8.13.post1.tar.gz (1.2 MB)\n",
      "Note: you may need to restart the kernel to use updated packages.\n"
     ]
    },
    {
     "name": "stderr",
     "output_type": "stream",
     "text": [
      "    ERROR: Command errored out with exit status 1:\n",
      "     command: 'C:\\Users\\indir\\anaconda3\\python.exe' -c 'import sys, setuptools, tokenize; sys.argv[0] = '\"'\"'C:\\\\Users\\\\indir\\\\AppData\\\\Local\\\\Temp\\\\pip-install-9bk6fido\\\\fiona\\\\setup.py'\"'\"'; __file__='\"'\"'C:\\\\Users\\\\indir\\\\AppData\\\\Local\\\\Temp\\\\pip-install-9bk6fido\\\\fiona\\\\setup.py'\"'\"';f=getattr(tokenize, '\"'\"'open'\"'\"', open)(__file__);code=f.read().replace('\"'\"'\\r\\n'\"'\"', '\"'\"'\\n'\"'\"');f.close();exec(compile(code, __file__, '\"'\"'exec'\"'\"'))' egg_info --egg-base 'C:\\Users\\indir\\AppData\\Local\\Temp\\pip-install-9bk6fido\\fiona\\pip-egg-info'\n",
      "         cwd: C:\\Users\\indir\\AppData\\Local\\Temp\\pip-install-9bk6fido\\fiona\\\n",
      "    Complete output (1 lines):\n",
      "    A GDAL API version must be specified. Provide a path to gdal-config using a GDAL_CONFIG environment variable or use a GDAL_VERSION environment variable.\n",
      "    ----------------------------------------\n",
      "ERROR: Command errored out with exit status 1: python setup.py egg_info Check the logs for full command output.\n"
     ]
    }
   ],
   "source": [
    "pip install geopandas"
   ]
  },
  {
   "cell_type": "code",
   "execution_count": 2,
   "metadata": {},
   "outputs": [
    {
     "name": "stdout",
     "output_type": "stream",
     "text": [
      "Requirement already satisfied: bokeh in c:\\users\\indir\\anaconda3\\lib\\site-packages (1.4.0)\n",
      "Requirement already satisfied: six>=1.5.2 in c:\\users\\indir\\anaconda3\\lib\\site-packages (from bokeh) (1.14.0)\n",
      "Requirement already satisfied: tornado>=4.3 in c:\\users\\indir\\anaconda3\\lib\\site-packages (from bokeh) (6.0.3)\n",
      "Requirement already satisfied: packaging>=16.8 in c:\\users\\indir\\anaconda3\\lib\\site-packages (from bokeh) (20.1)\n",
      "Requirement already satisfied: PyYAML>=3.10 in c:\\users\\indir\\anaconda3\\lib\\site-packages (from bokeh) (5.3)\n",
      "Requirement already satisfied: pillow>=4.0 in c:\\users\\indir\\anaconda3\\lib\\site-packages (from bokeh) (7.0.0)\n",
      "Requirement already satisfied: numpy>=1.7.1 in c:\\users\\indir\\anaconda3\\lib\\site-packages (from bokeh) (1.18.1)\n",
      "Requirement already satisfied: python-dateutil>=2.1 in c:\\users\\indir\\anaconda3\\lib\\site-packages (from bokeh) (2.8.1)\n",
      "Requirement already satisfied: Jinja2>=2.7 in c:\\users\\indir\\anaconda3\\lib\\site-packages (from bokeh) (2.11.1)\n",
      "Requirement already satisfied: pyparsing>=2.0.2 in c:\\users\\indir\\anaconda3\\lib\\site-packages (from packaging>=16.8->bokeh) (2.4.6)\n",
      "Requirement already satisfied: MarkupSafe>=0.23 in c:\\users\\indir\\anaconda3\\lib\\site-packages (from Jinja2>=2.7->bokeh) (1.1.1)\n",
      "Note: you may need to restart the kernel to use updated packages.\n"
     ]
    }
   ],
   "source": [
    "pip install bokeh"
   ]
  },
  {
   "cell_type": "code",
   "execution_count": 2,
   "metadata": {},
   "outputs": [
    {
     "name": "stdout",
     "output_type": "stream",
     "text": [
      "Collecting setuptools\n",
      "  Downloading setuptools-47.1.1-py3-none-any.whl (583 kB)\n",
      "Installing collected packages: setuptools\n",
      "  Attempting uninstall: setuptools\n",
      "    Found existing installation: setuptools 45.2.0.post20200210\n",
      "    Uninstalling setuptools-45.2.0.post20200210:\n",
      "      Successfully uninstalled setuptools-45.2.0.post20200210\n",
      "Successfully installed setuptools-47.1.1\n",
      "Note: you may need to restart the kernel to use updated packages.\n"
     ]
    }
   ],
   "source": [
    "pip install --upgrade setuptools"
   ]
  },
  {
   "cell_type": "code",
   "execution_count": 1,
   "metadata": {},
   "outputs": [
    {
     "ename": "ModuleNotFoundError",
     "evalue": "No module named 'geopandas'",
     "output_type": "error",
     "traceback": [
      "\u001b[1;31m---------------------------------------------------------------------------\u001b[0m",
      "\u001b[1;31mModuleNotFoundError\u001b[0m                       Traceback (most recent call last)",
      "\u001b[1;32m<ipython-input-1-b5775dbb291d>\u001b[0m in \u001b[0;36m<module>\u001b[1;34m\u001b[0m\n\u001b[0;32m      1\u001b[0m \u001b[1;31m# Import geopandas package\u001b[0m\u001b[1;33m\u001b[0m\u001b[1;33m\u001b[0m\u001b[1;33m\u001b[0m\u001b[0m\n\u001b[1;32m----> 2\u001b[1;33m \u001b[1;32mimport\u001b[0m \u001b[0mgeopandas\u001b[0m \u001b[1;32mas\u001b[0m \u001b[0mgpd\u001b[0m\u001b[1;33m\u001b[0m\u001b[1;33m\u001b[0m\u001b[0m\n\u001b[0m\u001b[0;32m      3\u001b[0m \u001b[1;31m# Read in shapefile and examine data\u001b[0m\u001b[1;33m\u001b[0m\u001b[1;33m\u001b[0m\u001b[1;33m\u001b[0m\u001b[0m\n\u001b[0;32m      4\u001b[0m \u001b[0mcontiguous_usa\u001b[0m \u001b[1;33m=\u001b[0m \u001b[0mgpd\u001b[0m\u001b[1;33m.\u001b[0m\u001b[0mread_file\u001b[0m\u001b[1;33m(\u001b[0m\u001b[1;34m'data/cb_2018_us_state_20m.shp'\u001b[0m\u001b[1;33m)\u001b[0m\u001b[1;33m\u001b[0m\u001b[1;33m\u001b[0m\u001b[0m\n\u001b[0;32m      5\u001b[0m \u001b[0mcontiguous_usa\u001b[0m\u001b[1;33m.\u001b[0m\u001b[0mhead\u001b[0m\u001b[1;33m(\u001b[0m\u001b[1;33m)\u001b[0m\u001b[1;33m\u001b[0m\u001b[1;33m\u001b[0m\u001b[0m\n",
      "\u001b[1;31mModuleNotFoundError\u001b[0m: No module named 'geopandas'"
     ]
    }
   ],
   "source": [
    "# Import geopandas package\n",
    "import geopandas as gpd\n",
    "# Read in shapefile and examine data\n",
    "contiguous_usa = gpd.read_file('data/cb_2018_us_state_20m.shp')\n",
    "contiguous_usa.head()"
   ]
  },
  {
   "cell_type": "code",
   "execution_count": null,
   "metadata": {},
   "outputs": [],
   "source": []
  }
 ],
 "metadata": {
  "kernelspec": {
   "display_name": "Python 3",
   "language": "python",
   "name": "python3"
  },
  "language_info": {
   "codemirror_mode": {
    "name": "ipython",
    "version": 3
   },
   "file_extension": ".py",
   "mimetype": "text/x-python",
   "name": "python",
   "nbconvert_exporter": "python",
   "pygments_lexer": "ipython3",
   "version": "3.7.6"
  }
 },
 "nbformat": 4,
 "nbformat_minor": 4
}
